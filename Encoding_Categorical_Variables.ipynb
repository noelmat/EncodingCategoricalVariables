{
 "cells": [
  {
   "cell_type": "code",
   "execution_count": 1,
   "metadata": {},
   "outputs": [],
   "source": [
    "import numpy as np\n",
    "from numpy.random import randn\n",
    "import pandas as pd\n",
    "from category_encoders import CatBoostEncoder, TargetEncoder"
   ]
  },
  {
   "cell_type": "code",
   "execution_count": 2,
   "metadata": {},
   "outputs": [],
   "source": [
    "cats = ['A','B','C','D','E','F','G','H']"
   ]
  },
  {
   "cell_type": "code",
   "execution_count": 3,
   "metadata": {
    "scrolled": true
   },
   "outputs": [],
   "source": [
    "data = pd.DataFrame({'target':(randn(1000) * 100) + 10,'id':range(1000),'cat':[cats[i%5]for i in range(1000)],'cont':randn(1000)})"
   ]
  },
  {
   "cell_type": "code",
   "execution_count": 4,
   "metadata": {},
   "outputs": [],
   "source": [
    "def get_encodings(data,col_idx,category_override = False):\n",
    "    _type = data.iloc[:,col_idx].dtype\n",
    "    if (_type == np.int or _type == np.float):\n",
    "        return \n",
    "    elif (len(np.unique(data.iloc[:,col_idx])) > (len(data) *0.8)):\n",
    "        return \n",
    "    else: \n",
    "        return np.column_stack(encode(data.iloc[:,[0,col_idx]]))\n",
    "        "
   ]
  },
  {
   "cell_type": "code",
   "execution_count": 5,
   "metadata": {},
   "outputs": [],
   "source": [
    "def encode(data):\n",
    "    cols = []\n",
    "    cb_encoder = CatBoostEncoder()\n",
    "    cb_encoded = cb_encoder.fit_transform(data.iloc[:,1],data.iloc[:,0])\n",
    "    cols.append(cb_encoded.values)\n",
    "    loo_encoder = TargetEncoder()\n",
    "    loo_encoded = loo_encoder.fit_transform(data.iloc[:,1],data.iloc[:,0])\n",
    "    cols.append(loo_encoded.values)\n",
    "    cat_dict = data.iloc[:,1].value_counts().to_dict()\n",
    "    cols.append(data.iloc[:,1].map(cat_dict))\n",
    "    return cols"
   ]
  },
  {
   "cell_type": "code",
   "execution_count": 6,
   "metadata": {},
   "outputs": [
    {
     "name": "stdout",
     "output_type": "stream",
     "text": [
      "[[  3.89458738   2.78540284 200.        ]\n",
      " [  3.89458738   8.93891507 200.        ]\n",
      " [  3.89458738  16.77785482 200.        ]\n",
      " ...\n",
      " [ 17.58418661  16.77785482 200.        ]\n",
      " [ -5.40084652  -4.61133176 200.        ]\n",
      " [ -3.52262427  -4.41790407 200.        ]]\n"
     ]
    }
   ],
   "source": [
    "#for categorical variables\n",
    "print(get_encodings(data,2))"
   ]
  },
  {
   "cell_type": "code",
   "execution_count": 7,
   "metadata": {},
   "outputs": [
    {
     "name": "stdout",
     "output_type": "stream",
     "text": [
      "None\n"
     ]
    }
   ],
   "source": [
    "#for numerical variables\n",
    "print(get_encodings(data,1))"
   ]
  },
  {
   "cell_type": "code",
   "execution_count": null,
   "metadata": {},
   "outputs": [],
   "source": [
    "a"
   ]
  }
 ],
 "metadata": {
  "kernelspec": {
   "display_name": "Python 3",
   "language": "python",
   "name": "python3"
  },
  "language_info": {
   "codemirror_mode": {
    "name": "ipython",
    "version": 3
   },
   "file_extension": ".py",
   "mimetype": "text/x-python",
   "name": "python",
   "nbconvert_exporter": "python",
   "pygments_lexer": "ipython3",
   "version": "3.7.4"
  }
 },
 "nbformat": 4,
 "nbformat_minor": 2
}
